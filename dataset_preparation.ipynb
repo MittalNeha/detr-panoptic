{
  "nbformat": 4,
  "nbformat_minor": 0,
  "metadata": {
    "colab": {
      "name": "dataset_preparation.ipynb",
      "provenance": [],
      "machine_shape": "hm",
      "include_colab_link": true
    },
    "kernelspec": {
      "name": "python3",
      "display_name": "Python 3"
    },
    "language_info": {
      "name": "python"
    },
    "accelerator": "GPU"
  },
  "cells": [
    {
      "cell_type": "markdown",
      "metadata": {
        "id": "view-in-github",
        "colab_type": "text"
      },
      "source": [
        "<a href=\"https://colab.research.google.com/github/MittalNeha/detr-panoptic/blob/main/dataset_preparation.ipynb\" target=\"_parent\"><img src=\"https://colab.research.google.com/assets/colab-badge.svg\" alt=\"Open In Colab\"/></a>"
      ]
    },
    {
      "cell_type": "markdown",
      "metadata": {
        "id": "Xp5KS4_FMGgw"
      },
      "source": [
        "In particular the COCO format [6] for panoptic segmentation consists in a PNG that stores the class-agnostic image segmentation and a JSON struct that stores the semantic information for each image segment. The unique id of the segment is used to retrieve the corresponding mask from the PNG while the category_id gives the semantic category. The isthing attribute distinguishes stuff and thing categories.\n",
        "While the COCO dataset express segmentation as a list of vertex (that will be converted to the mask image) the Cityscapes script already outputs the PNG."
      ]
    },
    {
      "cell_type": "code",
      "metadata": {
        "id": "92-PvoBtnHF1"
      },
      "source": [
        "import os"
      ],
      "execution_count": 1,
      "outputs": []
    },
    {
      "cell_type": "code",
      "metadata": {
        "colab": {
          "base_uri": "https://localhost:8080/"
        },
        "id": "MbcIdC7iNxo9",
        "outputId": "c4e5fc52-cbe6-479d-ea9b-01fba64466ea"
      },
      "source": [
        "# !git clone https://github.com/facebookresearch/detr.git"
      ],
      "execution_count": null,
      "outputs": [
        {
          "output_type": "stream",
          "name": "stdout",
          "text": [
            "Cloning into 'detr'...\n",
            "remote: Enumerating objects: 247, done.\u001b[K\n",
            "remote: Counting objects: 100% (4/4), done.\u001b[K\n",
            "remote: Compressing objects: 100% (4/4), done.\u001b[K\n",
            "remote: Total 247 (delta 0), reused 1 (delta 0), pack-reused 243\u001b[K\n",
            "Receiving objects: 100% (247/247), 12.84 MiB | 21.49 MiB/s, done.\n",
            "Resolving deltas: 100% (130/130), done.\n"
          ]
        }
      ]
    },
    {
      "cell_type": "code",
      "metadata": {
        "id": "XWuLa-JUX16W",
        "colab": {
          "base_uri": "https://localhost:8080/"
        },
        "outputId": "45985834-559c-412c-d81c-c4a688452570"
      },
      "source": [
        "!git clone https://github.com/MittalNeha/Extensive_Vision_AI6.git\n",
        "!cp -r /content/Extensive_Vision_AI6/CAPSTONE/detr/ ."
      ],
      "execution_count": 2,
      "outputs": [
        {
          "output_type": "stream",
          "name": "stdout",
          "text": [
            "Cloning into 'Extensive_Vision_AI6'...\n",
            "remote: Enumerating objects: 549, done.\u001b[K\n",
            "remote: Counting objects: 100% (549/549), done.\u001b[K\n",
            "remote: Compressing objects: 100% (466/466), done.\u001b[K\n",
            "remote: Total 549 (delta 251), reused 167 (delta 59), pack-reused 0\u001b[K\n",
            "Receiving objects: 100% (549/549), 10.70 MiB | 20.00 MiB/s, done.\n",
            "Resolving deltas: 100% (251/251), done.\n"
          ]
        }
      ]
    },
    {
      "cell_type": "code",
      "metadata": {
        "colab": {
          "base_uri": "https://localhost:8080/"
        },
        "id": "5lS6ha-3XsgC",
        "outputId": "0eae84ba-a856-410d-af4a-1b0a0f5a30bd"
      },
      "source": [
        "from google.colab import drive\n",
        "drive.mount('/gdrive')"
      ],
      "execution_count": 3,
      "outputs": [
        {
          "output_type": "stream",
          "name": "stdout",
          "text": [
            "Mounted at /gdrive\n"
          ]
        }
      ]
    },
    {
      "cell_type": "code",
      "metadata": {
        "id": "_02gzM4Hiixi"
      },
      "source": [
        "from google.colab.patches import cv2_imshow"
      ],
      "execution_count": null,
      "outputs": []
    },
    {
      "cell_type": "code",
      "metadata": {
        "id": "uhV4F3J4W4kx"
      },
      "source": [
        "# !wget https://drive.google.com/file/d/1IsK268zLnXB2Qq0X2LgNDwBZRuVwvjRx/view?usp=sharing"
      ],
      "execution_count": null,
      "outputs": []
    },
    {
      "cell_type": "code",
      "metadata": {
        "id": "EnW_BBPZYimM"
      },
      "source": [
        "!unzip -q /gdrive/MyDrive/EVA6/CAPSTONE/construction_materials_dataset.zip -d dataset"
      ],
      "execution_count": null,
      "outputs": []
    },
    {
      "cell_type": "code",
      "metadata": {
        "colab": {
          "base_uri": "https://localhost:8080/"
        },
        "id": "M5P17TOA2sIh",
        "outputId": "85a5e91f-36de-459a-8eab-2fdf992138a0"
      },
      "source": [
        "%cd Extensive_Vision_AI6/CAPSTONE/"
      ],
      "execution_count": null,
      "outputs": [
        {
          "output_type": "stream",
          "name": "stdout",
          "text": [
            "/content/Extensive_Vision_AI6/CAPSTONE\n"
          ]
        }
      ]
    },
    {
      "cell_type": "code",
      "metadata": {
        "id": "LySaA3173rNC"
      },
      "source": [
        "!python CvattoCoco.py"
      ],
      "execution_count": null,
      "outputs": []
    },
    {
      "cell_type": "code",
      "metadata": {
        "id": "NXwWanmj9mhc"
      },
      "source": [
        "!zip -r /gdrive/MyDrive/EVA6/CAPSTONE/parsed_data.zip /content/content/parsed_data"
      ],
      "execution_count": null,
      "outputs": []
    },
    {
      "cell_type": "code",
      "metadata": {
        "colab": {
          "base_uri": "https://localhost:8080/"
        },
        "id": "ytHenpU4AgZI",
        "outputId": "ab6ab52e-856e-4ace-f1c3-7d7c8d4f8cc4"
      },
      "source": [
        "%cd ../../detr"
      ],
      "execution_count": null,
      "outputs": [
        {
          "output_type": "stream",
          "name": "stdout",
          "text": [
            "/content/detr\n"
          ]
        }
      ]
    },
    {
      "cell_type": "markdown",
      "metadata": {
        "id": "mqibCdh3pYwf"
      },
      "source": [
        "#Create Panoptic mask.\n",
        "1. pass custom dataset images through pretrained detr\n",
        "2. Combine coco predictions with custom dataset ground truth"
      ]
    },
    {
      "cell_type": "code",
      "metadata": {
        "colab": {
          "base_uri": "https://localhost:8080/"
        },
        "id": "5zlZGXd_BTeY",
        "outputId": "2eeff920-2961-45a6-d2e7-2051bd93cbec"
      },
      "source": [
        "! pip install git+https://github.com/cocodataset/panopticapi.git"
      ],
      "execution_count": 4,
      "outputs": [
        {
          "output_type": "stream",
          "name": "stdout",
          "text": [
            "Collecting git+https://github.com/cocodataset/panopticapi.git\n",
            "  Cloning https://github.com/cocodataset/panopticapi.git to /tmp/pip-req-build-k7fgm7_v\n",
            "  Running command git clone -q https://github.com/cocodataset/panopticapi.git /tmp/pip-req-build-k7fgm7_v\n",
            "Requirement already satisfied: numpy in /usr/local/lib/python3.7/dist-packages (from panopticapi==0.1) (1.19.5)\n",
            "Requirement already satisfied: Pillow in /usr/local/lib/python3.7/dist-packages (from panopticapi==0.1) (7.1.2)\n",
            "Building wheels for collected packages: panopticapi\n",
            "  Building wheel for panopticapi (setup.py) ... \u001b[?25l\u001b[?25hdone\n",
            "  Created wheel for panopticapi: filename=panopticapi-0.1-py3-none-any.whl size=8306 sha256=96bf09f7f589e14db2b15c8604fe2189ea7fc93c0f1ae06681021defd0f2c5c2\n",
            "  Stored in directory: /tmp/pip-ephem-wheel-cache-5glxzrjn/wheels/ad/89/b8/b66cce9246af3d71d65d72c85ab993fd28e7578e1b0ed197f1\n",
            "Successfully built panopticapi\n",
            "Installing collected packages: panopticapi\n",
            "Successfully installed panopticapi-0.1\n"
          ]
        }
      ]
    },
    {
      "cell_type": "code",
      "metadata": {
        "id": "_tXEK7hQZf2J"
      },
      "source": [
        "!unzip -q /gdrive/MyDrive/EVA6/CAPSTONE/parsed_data.zip"
      ],
      "execution_count": 5,
      "outputs": []
    },
    {
      "cell_type": "code",
      "metadata": {
        "colab": {
          "base_uri": "https://localhost:8080/"
        },
        "id": "8NNoCsNDZ0fh",
        "outputId": "591f94a7-3dd6-41e7-fe95-1a1b3b99baf8"
      },
      "source": [
        "%cd detr"
      ],
      "execution_count": 6,
      "outputs": [
        {
          "output_type": "stream",
          "name": "stdout",
          "text": [
            "/content/detr\n"
          ]
        }
      ]
    },
    {
      "cell_type": "code",
      "metadata": {
        "id": "V5gJRfu6Aqny"
      },
      "source": [
        "!python create_panoptic_dataset.py --batch_size 2 --dataset_file coco_materials --data_path /content/content/content/parsed_data/ --device cuda --output_dir output/ --coco_panoptic_path /content/coco_panoptic"
      ],
      "execution_count": null,
      "outputs": []
    },
    {
      "cell_type": "code",
      "metadata": {
        "colab": {
          "base_uri": "https://localhost:8080/"
        },
        "id": "MX-URiDDb5nG",
        "outputId": "b34d0aaf-25d4-4bec-f237-39d2e6c31fa1"
      },
      "source": [
        "%cd .."
      ],
      "execution_count": 10,
      "outputs": [
        {
          "output_type": "stream",
          "name": "stdout",
          "text": [
            "/content\n"
          ]
        }
      ]
    },
    {
      "cell_type": "code",
      "metadata": {
        "id": "pcT5wfb4bzKv"
      },
      "source": [
        "!zip -r /gdrive/MyDrive/EVA6/CAPSTONE/panoptic.zip coco_panoptic"
      ],
      "execution_count": null,
      "outputs": []
    },
    {
      "cell_type": "code",
      "metadata": {
        "id": "u8CUSbqpj3u2"
      },
      "source": [
        "!mv coco_panoptic/annotations/panoptic_val/ coco_panoptic/annotations/panoptic_materials_val/\n",
        "!mv coco_panoptic/annotations/panoptic_train/ coco_panoptic/annotations/panoptic_materials_train/"
      ],
      "execution_count": 10,
      "outputs": []
    },
    {
      "cell_type": "markdown",
      "metadata": {
        "id": "BoCXWOQLp4BU"
      },
      "source": [
        ""
      ]
    },
    {
      "cell_type": "code",
      "metadata": {
        "id": "efFADo6bqA_x"
      },
      "source": [
        "!unzip -q /gdrive/MyDrive/EVA6/CAPSTONE/panoptic.zip "
      ],
      "execution_count": 6,
      "outputs": []
    },
    {
      "cell_type": "code",
      "metadata": {
        "id": "3HJxI3NGp-XT"
      },
      "source": [
        "!cp -r parsed_data/materials_test/ coco_panoptic/\n",
        "!cp -r parsed_data/materials_val/ coco_panoptic/\n",
        "!cp -r parsed_data/materials_train/ coco_panoptic/"
      ],
      "execution_count": 10,
      "outputs": []
    },
    {
      "cell_type": "markdown",
      "metadata": {
        "id": "2ZizmWwapwWW"
      },
      "source": [
        "###Also add some annotations from the coco val dataset "
      ]
    },
    {
      "cell_type": "code",
      "metadata": {
        "id": "ewrUTY0LhU0i"
      },
      "source": [
        "!wget http://images.cocodataset.org/zips/val2017.zip\n",
        "!unzip -q val2017.zip"
      ],
      "execution_count": 2,
      "outputs": []
    },
    {
      "cell_type": "code",
      "metadata": {
        "colab": {
          "base_uri": "https://localhost:8080/"
        },
        "id": "NDiFykAmryQn",
        "outputId": "ca1ed166-4b30-465b-ac0a-51a8a310b76d"
      },
      "source": [
        "!wget http://images.cocodataset.org/annotations/panoptic_annotations_trainval2017.zip\n",
        "!unzip -q panoptic_annotations_trainval2017.zip\n",
        "%cd annotations/\n",
        "!unzip -q panoptic_train2017.zip\n",
        "!unzip -q panoptic_val2017.zip\n",
        "%cd .."
      ],
      "execution_count": 5,
      "outputs": [
        {
          "output_type": "stream",
          "name": "stdout",
          "text": [
            "--2021-09-23 16:44:19--  http://images.cocodataset.org/annotations/panoptic_annotations_trainval2017.zip\n",
            "Resolving images.cocodataset.org (images.cocodataset.org)... 52.217.94.148\n",
            "Connecting to images.cocodataset.org (images.cocodataset.org)|52.217.94.148|:80... connected.\n",
            "HTTP request sent, awaiting response... 200 OK\n",
            "Length: 860725834 (821M) [application/zip]\n",
            "Saving to: ‘panoptic_annotations_trainval2017.zip’\n",
            "\n",
            "panoptic_annotation 100%[===================>] 820.85M  39.6MB/s    in 21s     \n",
            "\n",
            "2021-09-23 16:44:40 (39.5 MB/s) - ‘panoptic_annotations_trainval2017.zip’ saved [860725834/860725834]\n",
            "\n",
            "/content/annotations\n",
            "/content\n"
          ]
        }
      ]
    },
    {
      "cell_type": "code",
      "metadata": {
        "id": "Uwx7OK3gjSaV"
      },
      "source": [
        "!python combine_panoptic.py"
      ],
      "execution_count": 12,
      "outputs": []
    },
    {
      "cell_type": "code",
      "metadata": {
        "id": "cE70_qU7lYmf"
      },
      "source": [
        "!cp combined_train.json coco_panoptic/annotations/train_panoptic.json\n",
        "!cp combined_val.json coco_panoptic/annotations/val_panoptic.json"
      ],
      "execution_count": 15,
      "outputs": []
    },
    {
      "cell_type": "markdown",
      "metadata": {
        "id": "AH-6DFZbmX7k"
      },
      "source": [
        "## Convert the json annotation file in coco_detection format for training the box model"
      ]
    },
    {
      "cell_type": "code",
      "metadata": {
        "id": "W0u7T09bmgqp"
      },
      "source": [
        "!python converttococo.py"
      ],
      "execution_count": 18,
      "outputs": []
    },
    {
      "cell_type": "markdown",
      "metadata": {
        "id": "k0aSGiH-oau9"
      },
      "source": [
        "## Fix: \"iscrowd\" key is missing in panoptic json\n",
        "TODO: fix in the code"
      ]
    },
    {
      "cell_type": "code",
      "metadata": {
        "id": "-43OFNRYok1n"
      },
      "source": [
        "import json\n",
        "from copy import deepcopy\n",
        "\n",
        "def hotfix_iscrowd(in_path):\n",
        "    f = open(in_path)\n",
        "    json_data = json.load(f)\n",
        "    f.close()\n",
        "\n",
        "    for ann in json_data['annotations']:\n",
        "        for seg in ann['segments_info']:\n",
        "            seg['iscrowd'] = 0\n",
        "\n",
        "    out_file = open(in_path, \"w\")\n",
        "    json.dump(json_data, out_file, indent = 4)\n",
        "    out_file.close()\n",
        "\n",
        "hotfix_iscrowd('coco_panoptic/annotations/train_panoptic.json')\n",
        "hotfix_iscrowd('coco_panoptic/annotations/val_panoptic.json')"
      ],
      "execution_count": 21,
      "outputs": []
    },
    {
      "cell_type": "code",
      "metadata": {
        "id": "KHTEku0Xsq6g"
      },
      "source": [
        "!zip -r /gdrive/MyDrive/EVA6/CAPSTONE/panoptic.zip coco_panoptic"
      ],
      "execution_count": null,
      "outputs": []
    },
    {
      "cell_type": "markdown",
      "metadata": {
        "id": "KgL3rhZpiRh5"
      },
      "source": [
        ""
      ]
    },
    {
      "cell_type": "code",
      "metadata": {
        "id": "bVX81-SlhW2O"
      },
      "source": [
        "!python create_panoptic_dataset.py --batch_size 1 --dataset_file coco_materials --data_path /content/content/content/parsed_data/ --device cuda --output_dir output/ --coco_panoptic_path /content/coco_panoptic"
      ],
      "execution_count": null,
      "outputs": []
    },
    {
      "cell_type": "code",
      "metadata": {
        "id": "AbAP0eqDuSW8"
      },
      "source": [
        "import gc\n",
        "import torch\n",
        "\n",
        "gc.collect()\n",
        "\n",
        "torch.cuda.empty_cache()"
      ],
      "execution_count": null,
      "outputs": []
    },
    {
      "cell_type": "code",
      "metadata": {
        "colab": {
          "base_uri": "https://localhost:8080/"
        },
        "id": "mRRguWDfwc8t",
        "outputId": "0079cd9e-eac3-4866-ce0a-00449c0e56b0"
      },
      "source": [
        "torch.cuda.device_count()"
      ],
      "execution_count": null,
      "outputs": [
        {
          "output_type": "execute_result",
          "data": {
            "text/plain": [
              "1"
            ]
          },
          "metadata": {},
          "execution_count": 14
        }
      ]
    },
    {
      "cell_type": "code",
      "metadata": {
        "colab": {
          "base_uri": "https://localhost:8080/"
        },
        "id": "-9DwY9Pvyyeg",
        "outputId": "09700e0c-ed3a-4bf0-d2a8-cd4824185267"
      },
      "source": [
        "!nvidia-smi"
      ],
      "execution_count": null,
      "outputs": [
        {
          "output_type": "stream",
          "name": "stdout",
          "text": [
            "Wed Sep 22 13:56:33 2021       \n",
            "+-----------------------------------------------------------------------------+\n",
            "| NVIDIA-SMI 470.63.01    Driver Version: 460.32.03    CUDA Version: 11.2     |\n",
            "|-------------------------------+----------------------+----------------------+\n",
            "| GPU  Name        Persistence-M| Bus-Id        Disp.A | Volatile Uncorr. ECC |\n",
            "| Fan  Temp  Perf  Pwr:Usage/Cap|         Memory-Usage | GPU-Util  Compute M. |\n",
            "|                               |                      |               MIG M. |\n",
            "|===============================+======================+======================|\n",
            "|   0  Tesla K80           Off  | 00000000:00:04.0 Off |                    0 |\n",
            "| N/A   37C    P8    27W / 149W |      3MiB / 11441MiB |      0%      Default |\n",
            "|                               |                      |                  N/A |\n",
            "+-------------------------------+----------------------+----------------------+\n",
            "                                                                               \n",
            "+-----------------------------------------------------------------------------+\n",
            "| Processes:                                                                  |\n",
            "|  GPU   GI   CI        PID   Type   Process name                  GPU Memory |\n",
            "|        ID   ID                                                   Usage      |\n",
            "|=============================================================================|\n",
            "|  No running processes found                                                 |\n",
            "+-----------------------------------------------------------------------------+\n"
          ]
        }
      ]
    },
    {
      "cell_type": "code",
      "metadata": {
        "colab": {
          "base_uri": "https://localhost:8080/"
        },
        "id": "lYL6sDAhtXGb",
        "outputId": "bb6c91fc-8a4a-4712-ee39-3bc361f47f0a"
      },
      "source": [
        "!nvidia-smi"
      ],
      "execution_count": 23,
      "outputs": [
        {
          "output_type": "stream",
          "name": "stdout",
          "text": [
            "Thu Sep 23 17:30:33 2021       \n",
            "+-----------------------------------------------------------------------------+\n",
            "| NVIDIA-SMI 470.63.01    Driver Version: 460.32.03    CUDA Version: 11.2     |\n",
            "|-------------------------------+----------------------+----------------------+\n",
            "| GPU  Name        Persistence-M| Bus-Id        Disp.A | Volatile Uncorr. ECC |\n",
            "| Fan  Temp  Perf  Pwr:Usage/Cap|         Memory-Usage | GPU-Util  Compute M. |\n",
            "|                               |                      |               MIG M. |\n",
            "|===============================+======================+======================|\n",
            "|   0  Tesla P100-PCIE...  Off  | 00000000:00:04.0 Off |                    0 |\n",
            "| N/A   40C    P0    26W / 250W |      0MiB / 16280MiB |      0%      Default |\n",
            "|                               |                      |                  N/A |\n",
            "+-------------------------------+----------------------+----------------------+\n",
            "                                                                               \n",
            "+-----------------------------------------------------------------------------+\n",
            "| Processes:                                                                  |\n",
            "|  GPU   GI   CI        PID   Type   Process name                  GPU Memory |\n",
            "|        ID   ID                                                   Usage      |\n",
            "|=============================================================================|\n",
            "|  No running processes found                                                 |\n",
            "+-----------------------------------------------------------------------------+\n"
          ]
        }
      ]
    },
    {
      "cell_type": "markdown",
      "metadata": {
        "id": "KsqIJHZHhW2T"
      },
      "source": [
        ""
      ]
    }
  ]
}